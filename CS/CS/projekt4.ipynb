{
 "cells": [
  {
   "cell_type": "markdown",
   "metadata": {},
   "source": [
    "# Projekt 4: Constraint-Satisfaction Probleme\n",
    "**Abgabe:** 19.07.2024"
   ]
  },
  {
   "cell_type": "markdown",
   "metadata": {},
   "source": [
    "Wir werden zur Modellierung der CSPs die Bibliothek `PyCSP3` (https://pycsp.org/) benutzen. Macht euch vor der Bearbeitung mit diese Bibliothek vertraut. Beachtet, dass diese Bibliothek intern einen Java-Solver benutzt. Daher müsst ihr Java auf eurem Computer installiert haben."
   ]
  },
  {
   "cell_type": "code",
   "execution_count": 1,
   "metadata": {},
   "outputs": [
    {
     "ename": "ModuleNotFoundError",
     "evalue": "No module named 'pycsp3'",
     "output_type": "error",
     "traceback": [
      "\u001b[0;31m---------------------------------------------------------------------------\u001b[0m",
      "\u001b[0;31mModuleNotFoundError\u001b[0m                       Traceback (most recent call last)",
      "Cell \u001b[0;32mIn[1], line 1\u001b[0m\n\u001b[0;32m----> 1\u001b[0m \u001b[38;5;28;01mfrom\u001b[39;00m \u001b[38;5;21;01mpycsp3\u001b[39;00m \u001b[38;5;28;01mimport\u001b[39;00m \u001b[38;5;241m*\u001b[39m\n",
      "\u001b[0;31mModuleNotFoundError\u001b[0m: No module named 'pycsp3'"
     ]
    }
   ],
   "source": [
    "from pycsp3 import *"
   ]
  },
  {
   "cell_type": "markdown",
   "metadata": {},
   "source": [
    "Hier ist eine Beispielmodellierung des n-Damen Problems. Beachtet, dass das Aufrufen von `clear()` nach der `solve()` Methode notwendig ist, um den Solver zurückzusetzen. In manchen Fällen gibt es trotzdem Fehlermeldungen. Dann hilft ein Neustart des Python-Kernels."
   ]
  },
  {
   "cell_type": "code",
   "execution_count": null,
   "metadata": {},
   "outputs": [],
   "source": [
    "n = 100\n",
    "\n",
    "x = VarArray(size=n, dom=range(n))\n",
    "\n",
    "satisfy(\n",
    "    AllDifferent(x),\n",
    "    AllDifferent(x[i] - i for  i in range(n)),\n",
    "    AllDifferent(x[i] + i for i in range(n))\n",
    ")\n",
    "\n",
    "if solve() is SAT:\n",
    "    print(values(x))\n",
    "clear()"
   ]
  },
  {
   "cell_type": "markdown",
   "metadata": {},
   "source": [
    "## 1. Modellierung\n",
    "\n",
    "In dieser Aufgabe sollen verschiedene kombinatorische Probleme modelliert werden. Für jedes Problem stehen im Ordner `test` einige Testfälle bereit. Modellieren Sie die Probleme mithilfe der `PyCSP3`-Bibliothek und evaluieren Sie anschließend die Modellierung anhand der test-Instanzen."
   ]
  },
  {
   "cell_type": "markdown",
   "metadata": {},
   "source": [
    "#### a) Killer-Sudoku\n",
    "\n",
    "Ein Killer-Sudoku ist ein Standard-Sudoku mit zusätzlichen Summen-Constraints. Zusätzlich zu den üblichen Regeln, dass jede Zeile, Spalte und die 3x3 Felder jeweils die Zahlen von 1-9 enthalten müssen und in keiner Reihe, Spalte, Box eine Zahl doppelt vorkommen darf, gibt es zusätzliche Summen-Constraints. Dabei muss die Summe in den umrandeten Feldern genau der angegeben Summe entsprechen. Im Folgenden ist ein Beispiel Killer-Sudoku zu sehen:\n",
    "<center>\n",
    "<img src=\"killer_sudoku.png\" width=\"400\" height=\"400\">\n",
    "</center>\n"
   ]
  },
  {
   "cell_type": "code",
   "execution_count": null,
   "metadata": {},
   "outputs": [],
   "source": [
    "def solve_killer_sudoku(cages):\n",
    "    pass"
   ]
  },
  {
   "cell_type": "markdown",
   "metadata": {},
   "source": [
    "#### b) Trees and Tents\n",
    "In dieser Aufgabe soll das Spiel \"Trees and Tents\" (https://www.brainbashers.com/showtents.asp) modelliert werden. Das Spiel folgt ein paar sehr einfachen Regeln. Gespielt wird auf einem $n\\times n$-Feld. Am Anfang stehen auf dem Feld Bäume. Die Aufgabe ist es nun Zelte auf diesem Feld nach folgenden Regeln zu platzieren:\n",
    "- Jedes Zelt gehört zu genau einem Baum und zu jedem Baum gehört genau ein Zelt\n",
    "- Die Anzahl der Zelte entspricht der Anzahl der Bäume\n",
    "- Die Zahlen geben an, wie viele Zelt in der jeweiligen Spalte und Zeile stehen\n",
    "- Ein Zelt gehört nur zu einem Baum, wenn es horizontal oder vertikal mit diesem verbunden ist.\n",
    "- Zelte dürfen sich niemals berühren (weder horizontal, vertikal oder diagonal)\n",
    "\n",
    "<center>\n",
    "<img src=\"trees.png\" width=\"300\">\n",
    "</center>"
   ]
  },
  {
   "cell_type": "code",
   "execution_count": null,
   "metadata": {},
   "outputs": [],
   "source": [
    "def solve_trees(board, row_sums, col_sums):\n",
    "    pass\n",
    "    "
   ]
  },
  {
   "cell_type": "markdown",
   "metadata": {},
   "source": [
    "#### c) Pattern Encodings\n",
    "Ziel ist es die Felder in einem Raster schwarz zu malen, sodass Blöcke aufeinanderfolgender schwarzer Felder die für jede Reihe und Spalte gegebenen Einschränkungen erfüllen. Einschränkungen geben die Abfolge von schwarzen Blöcken an (z.B. bedeutet 3,1,2, dass es einen Block von 3 Feldern gibt, dann eine Lücke von unbestimmter Größe, einen Block von 1 Feld, eine weitere Lücke und schließlich einen Block von 2 Feldern). Unten befindet sich ein Beispiel\n",
    "<center>\n",
    "<img src=\"nonogram_solved.png\" width=\"300\">\n",
    "</center>\n",
    "\n",
    "**Hinweis**: Modellieren Sie das Problem ohne die Benutzung des `regular`-Constraints! Schreiben sie außerdem eine Funktion um das Bild eines solchen Patterns darzustellen."
   ]
  },
  {
   "cell_type": "code",
   "execution_count": null,
   "metadata": {},
   "outputs": [],
   "source": [
    "heart_example_rows = [[2, 2], [4, 4], [1, 3, 1], [2, 1, 2], [1, 1], [2, 2], [2, 2], [3], [1]]\n",
    "heart_example_cols = [[3], [2, 3], [2, 2], [2, 2], [2, 2], [2, 2], [2, 2], [2, 3], [3]]"
   ]
  },
  {
   "cell_type": "code",
   "execution_count": null,
   "metadata": {},
   "outputs": [],
   "source": [
    "def solve_pattern_encoding(rows, cols):\n",
    "    pass\n"
   ]
  },
  {
   "cell_type": "code",
   "execution_count": null,
   "metadata": {},
   "outputs": [],
   "source": [
    "def visualize_pattern(pattern_solution):\n",
    "    pass"
   ]
  },
  {
   "cell_type": "markdown",
   "metadata": {},
   "source": [
    "## 2. CSP-Solving\n",
    "In dieser Aufgabe soll ein einfacher CSP-Solver implementiert werden. Dafür finden Sie unten die teilweise vorimplementierte Klasse `CSP`. Wir betrachten dabei nur binäre Constraints der Form $(x,y, f_\\text{check})$ mit $x,y\\in \\text{Vars}$, für die gilt der Constraint ist erfüllt genau dann wenn $f_\\text{check}(\\texttt{assignment}[x], \\texttt{assignment}[y])=\\texttt{True}$. Die Klasse CSP verwendet zur Darstellung zwei Dictionaries. Das dict `domains`, weist jeder Variables eine Menge von möglichen Werten zu. Das dict `constraints`, weißt Tupeln von Variablen eine Menge von `check`-Funktionen zu, die für dieses Variablenpaar gelten müssen.\n",
    "\n",
    "Implementiere nun die restlichen Funktionen zum Lösen solcher CSP. Zum einen sollte ein einfacher Backtracking-Algorithmus zum Lösen implementiert werden. Anschließend soll der AC-3 Algorithmus aus der Vorlesung zur Herstellung der Arc-Consistency implementiert werden. Implementieren Sie außerdem die Minimum Remaining Values (MRV) Heuristik zum Auswählen der nächsten Variable. Bei dieser Heuristik wird diejenige Variable als nächstes belegt, welche die kleinste verbliebene Domain hat.\n",
    "\n",
    "Evaluieren Sie ihre Implementierung anschließend sowohl an dem Testbeispiel, als auch an den verschiedenen Sudokus."
   ]
  },
  {
   "cell_type": "code",
   "execution_count": null,
   "metadata": {},
   "outputs": [],
   "source": [
    "class CSP:\n",
    "\n",
    "    def __init__(self, domains: dict, constraints: dict):\n",
    "        self.domains = domains\n",
    "        self.constraints = constraints\n",
    "    \n",
    "    def consistent(self):\n",
    "        pass\n",
    "\n",
    "    def simple_backtracking(self):\n",
    "        pass\n",
    "\n",
    "    def ac3(self) -> dict:\n",
    "        pass\n",
    "\n",
    "\n",
    "    def ac3_backtrack(self):\n",
    "        pass\n",
    "                \n",
    "\n",
    "        \n"
   ]
  },
  {
   "cell_type": "code",
   "execution_count": 7,
   "metadata": {},
   "outputs": [],
   "source": [
    "domains = {\n",
    "    'a': {2, 3, 4, 5, 6, 7},\n",
    "    'b': {4, 5, 6, 7, 8, 9},\n",
    "    'c': {1, 2, 3, 4, 5}\n",
    "}\n",
    "\n",
    "# constraints:\n",
    "# b = 2*a\n",
    "# a = c\n",
    "# b >= c - 2\n",
    "# b <= c + 2\n",
    "constraints = {\n",
    "    ('a', 'b'): {lambda a, b: a * 2 == b},\n",
    "    ('b', 'a'): {lambda b, a: b == 2 * a},\n",
    "    ('a', 'c'): {lambda a, c: a == c},\n",
    "    ('c', 'a'): {lambda c, a: c == a},\n",
    "    ('b', 'c'): {lambda b, c: b >= c - 2, lambda b, c: b <= c + 2},\n",
    "    ('c', 'b'): {lambda c, b: b >= c - 2, lambda c, b: b <= c + 2},\n",
    "}\n",
    "\"\"\"\n",
    "Die Lösung der Instanz sollte {'a': 2, 'b': 4, 'c': 2} sein.\n",
    "\"\"\"\n",
    "\n"
   ]
  },
  {
   "cell_type": "code",
   "execution_count": null,
   "metadata": {},
   "outputs": [],
   "source": [
    "# Sudoku instances (index i belongs to row i // 9 and column i % 9)\n",
    "easy = [\n",
    "    '.9......45.2.......13......95.3.16.2.267.54...3..6..7...4....131.....5.7.6.......',\n",
    "    '...97..81.2......9.4..38.5.5..1...............9......72....73..3.98......8..15.4.',\n",
    "    '..8.....9.3...7.4857..........9.....6.4.......5....836.9....567.61.5.98....3..1..'\n",
    "]\n",
    "medium = [\n",
    "    '.275....85....6..9.......2..91.27...7...632.........713...9...5.........1.9....63',\n",
    "    '.38.6.71..9...............3......5746..1...3..8.5.76..54..96..8.1.7..4...........',\n",
    "    '895...6.2...8.4..7......5..............681...56.4.71..9..72....1..9..72...8......'\n",
    "]\n",
    "hard = [\n",
    "    '.3.9.67.565.7.24......5.3............7.3.....4....8.2.8....7....9..2.......4.9.8.',\n",
    "    '3.7...5.9...7..46..9.4.38...5.379......1....8..9.....64......1...8.........614...',\n",
    "    '.......98...7....38.9...51..31.2........78......3....661.....39.......6...2.918..'\n",
    "]\n",
    "\n",
    "# evaluate"
   ]
  }
 ],
 "metadata": {
  "kernelspec": {
   "display_name": "Python 3 (ipykernel)",
   "language": "python",
   "name": "python3"
  },
  "language_info": {
   "codemirror_mode": {
    "name": "ipython",
    "version": 3
   },
   "file_extension": ".py",
   "mimetype": "text/x-python",
   "name": "python",
   "nbconvert_exporter": "python",
   "pygments_lexer": "ipython3",
   "version": "3.10.12"
  }
 },
 "nbformat": 4,
 "nbformat_minor": 4
}
