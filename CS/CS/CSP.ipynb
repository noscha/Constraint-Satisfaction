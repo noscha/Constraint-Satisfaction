{
 "cells": [
  {
   "cell_type": "markdown",
   "metadata": {},
   "source": [
    "# Projekt 4: Constraint-Satisfaction Probleme\n",
    "**Abgabe:** 19.07.2024"
   ]
  },
  {
   "cell_type": "markdown",
   "metadata": {},
   "source": [
    "Wir werden zur Modellierung der CSPs die Bibliothek `PyCSP3` (https://pycsp.org/) benutzen. Macht euch vor der Bearbeitung mit diese Bibliothek vertraut. Beachtet, dass diese Bibliothek intern einen Java-Solver benutzt. Daher müsst ihr Java auf eurem Computer installiert haben."
   ]
  },
  {
   "cell_type": "code",
   "execution_count": 8,
   "metadata": {},
   "outputs": [],
   "source": [
    "from pycsp3 import *"
   ]
  },
  {
   "cell_type": "markdown",
   "metadata": {},
   "source": [
    "Hier ist eine Beispielmodellierung des n-Damen Problems. Beachtet, dass das Aufrufen von `clear()` nach der `solve()` Methode notwendig ist, um den Solver zurückzusetzen. In manchen Fällen gibt es trotzdem Fehlermeldungen. Dann hilft ein Neustart des Python-Kernels."
   ]
  },
  {
   "cell_type": "code",
   "execution_count": null,
   "metadata": {},
   "outputs": [],
   "source": [
    "n = 100\n",
    "\n",
    "x = VarArray(size=n, dom=range(n))\n",
    "\n",
    "satisfy(\n",
    "    AllDifferent(x),\n",
    "    AllDifferent(x[i] - i for  i in range(n)),\n",
    "    AllDifferent(x[i] + i for i in range(n))\n",
    ")\n",
    "\n",
    "if solve() is SAT:\n",
    "    print(values(x))\n",
    "clear()"
   ]
  },
  {
   "cell_type": "markdown",
   "metadata": {},
   "source": [
    "## 1. Modellierung\n",
    "\n",
    "In dieser Aufgabe sollen verschiedene kombinatorische Probleme modelliert werden. Für jedes Problem stehen im Ordner `test` einige Testfälle bereit. Modellieren Sie die Probleme mithilfe der `PyCSP3`-Bibliothek und evaluieren Sie anschließend die Modellierung anhand der test-Instanzen."
   ]
  },
  {
   "cell_type": "markdown",
   "metadata": {},
   "source": [
    "#### a) Killer-Sudoku\n",
    "\n",
    "Ein Killer-Sudoku ist ein Standard-Sudoku mit zusätzlichen Summen-Constraints. Zusätzlich zu den üblichen Regeln, dass jede Zeile, Spalte und die 3x3 Felder jeweils die Zahlen von 1-9 enthalten müssen und in keiner Reihe, Spalte, Box eine Zahl doppelt vorkommen darf, gibt es zusätzliche Summen-Constraints. Dabei muss die Summe in den umrandeten Feldern genau der angegeben Summe entsprechen. Im Folgenden ist ein Beispiel Killer-Sudoku zu sehen:\n",
    "<center>\n",
    "<img src=\"killer_sudoku.png\" width=\"400\" height=\"400\">\n",
    "</center>\n"
   ]
  },
  {
   "cell_type": "code",
   "execution_count": null,
   "metadata": {},
   "outputs": [],
   "source": [
    "def solve_killer_sudoku(cages):\n",
    "    pass"
   ]
  },
  {
   "cell_type": "markdown",
   "metadata": {},
   "source": [
    "#### b) Trees and Tents\n",
    "In dieser Aufgabe soll das Spiel \"Trees and Tents\" (https://www.brainbashers.com/showtents.asp) modelliert werden. Das Spiel folgt ein paar sehr einfachen Regeln. Gespielt wird auf einem $n\\times n$-Feld. Am Anfang stehen auf dem Feld Bäume. Die Aufgabe ist es nun Zelte auf diesem Feld nach folgenden Regeln zu platzieren:\n",
    "- Jedes Zelt gehört zu genau einem Baum und zu jedem Baum gehört genau ein Zelt\n",
    "- Die Anzahl der Zelte entspricht der Anzahl der Bäume\n",
    "- Die Zahlen geben an, wie viele Zelt in der jeweiligen Spalte und Zeile stehen\n",
    "- Ein Zelt gehört nur zu einem Baum, wenn es horizontal oder vertikal mit diesem verbunden ist.\n",
    "- Zelte dürfen sich niemals berühren (weder horizontal, vertikal oder diagonal)\n",
    "\n",
    "<center>\n",
    "<img src=\"trees.png\" width=\"300\">\n",
    "</center>"
   ]
  },
  {
   "cell_type": "code",
   "execution_count": null,
   "metadata": {},
   "outputs": [],
   "source": [
    "def solve_trees(board, row_sums, col_sums):\n",
    "    pass\n",
    "    "
   ]
  },
  {
   "cell_type": "markdown",
   "metadata": {},
   "source": [
    "#### c) Pattern Encodings\n",
    "Ziel ist es die Felder in einem Raster schwarz zu malen, sodass Blöcke aufeinanderfolgender schwarzer Felder die für jede Reihe und Spalte gegebenen Einschränkungen erfüllen. Einschränkungen geben die Abfolge von schwarzen Blöcken an (z.B. bedeutet 3,1,2, dass es einen Block von 3 Feldern gibt, dann eine Lücke von unbestimmter Größe, einen Block von 1 Feld, eine weitere Lücke und schließlich einen Block von 2 Feldern). Unten befindet sich ein Beispiel\n",
    "<center>\n",
    "<img src=\"pattern_solved.png\" width=\"300\">\n",
    "</center>\n",
    "\n",
    "**Hinweis**: Modelliert das Problem ohne die Benutzung des `regular`-Constraints! Schreiben sie außerdem eine Funktion um das Bild eines solchen Patterns darzustellen."
   ]
  },
  {
   "cell_type": "code",
   "execution_count": null,
   "metadata": {},
   "outputs": [],
   "source": [
    "heart_example_rows = [[2, 2], [4, 4], [1, 3, 1], [2, 1, 2], [1, 1], [2, 2], [2, 2], [3], [1]]\n",
    "heart_example_cols = [[3], [2, 3], [2, 2], [2, 2], [2, 2], [2, 2], [2, 2], [2, 3], [3]]"
   ]
  },
  {
   "cell_type": "code",
   "execution_count": null,
   "metadata": {},
   "outputs": [],
   "source": [
    "def solve_pattern_encoding(rows, cols):\n",
    "    pass\n"
   ]
  },
  {
   "cell_type": "code",
   "execution_count": null,
   "metadata": {},
   "outputs": [],
   "source": [
    "def visualize_pattern(pattern_solution):\n",
    "    pass"
   ]
  },
  {
   "cell_type": "markdown",
   "metadata": {},
   "source": [
    "## 2. CSP-Solving\n",
    "In dieser Aufgabe soll ein einfacher CSP-Solver implementiert werden. Dafür finden Sie unten die teilweise vorimplementierte Klasse `CSP`. Wir betrachten dabei nur binäre Constraints der Form $(x,y, f_\\text{check})$ mit $x,y\\in \\text{Vars}$, für die gilt der Constraint ist erfüllt genau dann wenn $f_\\text{check}(\\texttt{assignment}[x], \\texttt{assignment}[y])=\\texttt{True}$. Die Klasse CSP verwendet zur Darstellung zwei Dictionaries. Das dict `domains`, weist jeder Variables eine Menge von möglichen Werten zu. Das dict `constraints`, weißt Tupeln von Variablen eine Menge von `check`-Funktionen zu, die für dieses Variablenpaar gelten müssen.\n",
    "\n",
    "Implementiere nun die restlichen Funktionen zum Lösen solcher CSP. Zum einen sollte ein einfacher Backtracking-Algorithmus zum Lösen implementiert werden. Anschließend soll der AC-3 Algorithmus aus der Vorlesung zur Herstellung der Arc-Consistency implementiert werden. Implementieren Sie außerdem die Minimum Remaining Values (MRV) Heuristik zum Auswählen der nächsten Variable. Bei dieser Heuristik wird diejenige Variable als nächstes belegt, welche die kleinste verbliebene Domain hat.\n",
    "\n",
    "Evaluiert Eure Implementierung anschließend sowohl an dem Testbeispiel, als auch an den verschiedenen Sudokus."
   ]
  },
  {
   "cell_type": "code",
   "execution_count": 1,
   "metadata": {},
   "outputs": [],
   "source": [
    "import copy"
   ]
  },
  {
   "cell_type": "code",
   "execution_count": 8,
   "metadata": {},
   "outputs": [],
   "source": [
    "class CSP:\n",
    "    \"\"\"\n",
    "    Solves csp instances with ac3 and backtracking.\n",
    "    Only works if given constraints contains boths arcs.\n",
    "    \"\"\"\n",
    "    def __init__(self, domains: dict, constraints: dict):\n",
    "        self.domains = domains\n",
    "        self.constraints = constraints\n",
    "\n",
    "    \n",
    "    def complete(self, n):\n",
    "        \"\"\" Checks if csp is solved \"\"\"\n",
    "        if None in n.values():\n",
    "            return False\n",
    "            \n",
    "        for c in self.constraints:\n",
    "            for f in self.constraints[c]:\n",
    "                \n",
    "                if not f(n[c[0]], n[c[1]]):\n",
    "                    return False\n",
    "                    \n",
    "        return True\n",
    "\n",
    "    \n",
    "    def consistent(self, n, x, v):\n",
    "        \"\"\" Checks if n[x -> v] is consistent \"\"\"\n",
    "        n[x] = v\n",
    "        \n",
    "        for c in self.constraints:\n",
    "            \n",
    "            if x not in c or n[c[0]] is None or n[c[1]] is None:\n",
    "                continue\n",
    "                \n",
    "            for f in self.constraints[c]:\n",
    "                \n",
    "                if not f(n[c[0]], n[c[1]]):\n",
    "                    n[x] = None\n",
    "                    return False\n",
    "                    \n",
    "        return True\n",
    "\n",
    "    \n",
    "    def simple_backtracking(self, n=None, ac=False, counter=0): # del counter\n",
    "        \"\"\" Solves csp via backtracking \"\"\"\n",
    "        if ac and n is None:\n",
    "            self.ac3()\n",
    "            \n",
    "        n = dict.fromkeys(self.domains.keys()) if n is None else n\n",
    "        if self.complete(n):\n",
    "            return n, counter\n",
    "        x = self.choose(n)\n",
    "        \n",
    "        for v in self.domains[x]:\n",
    "            if self.consistent(n, x, v):\n",
    "                \n",
    "                if ac:\n",
    "                    # Use ac3 to propagate constraints to domains\n",
    "                    copy_domains = copy.deepcopy(self.domains)\n",
    "                    self.domains[x] = {v}\n",
    "                    inf = self.ac3(x=x)\n",
    "                else:\n",
    "                    inf = True\n",
    "                    \n",
    "                if inf:\n",
    "                    counter += 1\n",
    "                    r = self.simple_backtracking(n=n, ac=ac, counter=counter)\n",
    "                    if r:\n",
    "                        return r\n",
    "                     \n",
    "            n[x] = None\n",
    "            self.domains = copy_domains if ac else self.domains\n",
    "        return False\n",
    "                    \n",
    "        \n",
    "    def choose(self, n):\n",
    "        \"\"\" Chosse variable via Minimum Remaining Values heuristic \"\"\"\n",
    "        it = iter(n.keys())\n",
    "        res = next(it)\n",
    "        for k in it:\n",
    "            res = k if n[k] is None and len(self.domains[k]) <= len(self.domains[res]) else res\n",
    "        return res\n",
    "            \n",
    "        \n",
    "    def ac3(self, x=None) -> dict:\n",
    "        \"\"\" arc consistency 3 \"\"\"\n",
    "        queue = [c for c in self.constraints if x is None or c[0] == x or c[1] == x]\n",
    "        \n",
    "        while queue:\n",
    "            c = queue.pop(0)\n",
    "            if self.revise(c):\n",
    "                if not self.domains[c[0]] or not self.domains[c[1]]:\n",
    "                    return False\n",
    "                    \n",
    "                for n in self.constraints:\n",
    "                    if n not in queue and n[1] == c[0] and n[0] != c[1]:\n",
    "                        queue.append(n)\n",
    "                        \n",
    "        return self.domains, self.constraints\n",
    "\n",
    "    \n",
    "    def revise(self, constraint):\n",
    "        res = False\n",
    "        copy = self.domains[constraint[0]].copy()\n",
    "        \n",
    "        for i in copy:\n",
    "            satisfies = False\n",
    "            for j in self.domains[constraint[1]]:\n",
    "                for f in self.constraints[constraint]:\n",
    "                    if f(i, j):\n",
    "                        satisfies = True\n",
    "                        break\n",
    "                        \n",
    "            if not satisfies:\n",
    "                self.domains[constraint[0]].remove(i)\n",
    "                res = True\n",
    "                \n",
    "        return res\n",
    "        \n",
    "\n",
    "    def ac3_backtrack(self):\n",
    "        return self.simple_backtracking(ac=True)\n"
   ]
  },
  {
   "cell_type": "code",
   "execution_count": 10,
   "metadata": {},
   "outputs": [
    {
     "name": "stdout",
     "output_type": "stream",
     "text": [
      "({'a': 2, 'b': 4, 'c': 2}, 4)\n",
      "({'a': 2, 'b': 4, 'c': 2}, 3)\n"
     ]
    }
   ],
   "source": [
    "domains = {\n",
    "    'a': {2, 3, 4, 5, 6, 7},\n",
    "    'b': {4, 5, 6, 7, 8, 9},\n",
    "    'c': {1, 2, 3, 4, 5}\n",
    "}\n",
    "\n",
    "# constraints:\n",
    "# b = 2*a\n",
    "# a = c\n",
    "# b >= c - 2\n",
    "# b <= c + 2\n",
    "\n",
    "constraints = {\n",
    "    ('a', 'b'): {lambda a, b: a * 2 == b},\n",
    "    ('b', 'a'): {lambda b, a: b == 2 * a},\n",
    "    ('a', 'c'): {lambda a, c: a == c},\n",
    "    ('c', 'a'): {lambda c, a: c == a},\n",
    "    ('b', 'c'): {lambda b, c: b >= c - 2, lambda b, c: b <= c + 2},\n",
    "    ('c', 'b'): {lambda c, b: b >= c - 2, lambda c, b: b <= c + 2},\n",
    "}\n",
    "\n",
    "\"\"\"\n",
    "Die Lösung der Instanz sollte {'a': 2, 'b': 4, 'c': 2} sein.\n",
    "\"\"\"\n",
    "\n",
    "csp = CSP(domains, constraints)\n",
    "print(csp.simple_backtracking())\n",
    "print(csp.ac3_backtrack())\n"
   ]
  },
  {
   "cell_type": "code",
   "execution_count": 11,
   "metadata": {
    "scrolled": true
   },
   "outputs": [
    {
     "name": "stdout",
     "output_type": "stream",
     "text": [
      "({'00': 6, '01': 3, '02': 5, '03': 9, '04': 7, '05': 4, '06': 0, '07': 8, '08': 1, '10': 8, '11': 2, '12': 0, '13': 6, '14': 5, '15': 1, '16': 4, '17': 7, '18': 9, '20': 1, '21': 4, '22': 7, '23': 0, '24': 3, '25': 8, '26': 6, '27': 5, '28': 2, '30': 5, '31': 7, '32': 2, '33': 1, '34': 4, '35': 0, '36': 8, '37': 3, '38': 6, '40': 0, '41': 1, '42': 3, '43': 7, '44': 8, '45': 6, '46': 5, '47': 2, '48': 4, '50': 4, '51': 9, '52': 8, '53': 5, '54': 2, '55': 3, '56': 1, '57': 0, '58': 7, '60': 2, '61': 5, '62': 1, '63': 4, '64': 0, '65': 7, '66': 3, '67': 6, '68': 8, '70': 3, '71': 0, '72': 9, '73': 8, '74': 6, '75': 2, '76': 7, '77': 1, '78': 5, '80': 7, '81': 8, '82': 6, '83': 3, '84': 1, '85': 5, '86': 2, '87': 4, '88': 0}, 95)\n"
     ]
    },
    {
     "ename": "RecursionError",
     "evalue": "maximum recursion depth exceeded while calling a Python object",
     "output_type": "error",
     "traceback": [
      "\u001b[0;31m---------------------------------------------------------------------------\u001b[0m",
      "\u001b[0;31mRecursionError\u001b[0m                            Traceback (most recent call last)",
      "Cell \u001b[0;32mIn[11], line 50\u001b[0m\n\u001b[1;32m     48\u001b[0m csp \u001b[38;5;241m=\u001b[39m CSP(\u001b[38;5;241m*\u001b[39msodokus[\u001b[38;5;241m1\u001b[39m])\n\u001b[1;32m     49\u001b[0m \u001b[38;5;28mprint\u001b[39m(csp\u001b[38;5;241m.\u001b[39msimple_backtracking())\n\u001b[0;32m---> 50\u001b[0m \u001b[38;5;28mprint\u001b[39m(\u001b[43mcsp\u001b[49m\u001b[38;5;241;43m.\u001b[39;49m\u001b[43mac3_backtrack\u001b[49m\u001b[43m(\u001b[49m\u001b[43m)\u001b[49m)\n",
      "Cell \u001b[0;32mIn[8], line 121\u001b[0m, in \u001b[0;36mCSP.ac3_backtrack\u001b[0;34m(self)\u001b[0m\n\u001b[1;32m    120\u001b[0m \u001b[38;5;28;01mdef\u001b[39;00m \u001b[38;5;21mac3_backtrack\u001b[39m(\u001b[38;5;28mself\u001b[39m):\n\u001b[0;32m--> 121\u001b[0m     \u001b[38;5;28;01mreturn\u001b[39;00m \u001b[38;5;28;43mself\u001b[39;49m\u001b[38;5;241;43m.\u001b[39;49m\u001b[43msimple_backtracking\u001b[49m\u001b[43m(\u001b[49m\u001b[43mac\u001b[49m\u001b[38;5;241;43m=\u001b[39;49m\u001b[38;5;28;43;01mTrue\u001b[39;49;00m\u001b[43m)\u001b[49m\n",
      "Cell \u001b[0;32mIn[8], line 66\u001b[0m, in \u001b[0;36mCSP.simple_backtracking\u001b[0;34m(self, n, ac, counter)\u001b[0m\n\u001b[1;32m     64\u001b[0m \u001b[38;5;28;01mif\u001b[39;00m inf:\n\u001b[1;32m     65\u001b[0m     counter \u001b[38;5;241m+\u001b[39m\u001b[38;5;241m=\u001b[39m \u001b[38;5;241m1\u001b[39m\n\u001b[0;32m---> 66\u001b[0m     r \u001b[38;5;241m=\u001b[39m \u001b[38;5;28;43mself\u001b[39;49m\u001b[38;5;241;43m.\u001b[39;49m\u001b[43msimple_backtracking\u001b[49m\u001b[43m(\u001b[49m\u001b[43mn\u001b[49m\u001b[38;5;241;43m=\u001b[39;49m\u001b[43mn\u001b[49m\u001b[43m,\u001b[49m\u001b[43m \u001b[49m\u001b[43mac\u001b[49m\u001b[38;5;241;43m=\u001b[39;49m\u001b[43mac\u001b[49m\u001b[43m,\u001b[49m\u001b[43m \u001b[49m\u001b[43mcounter\u001b[49m\u001b[38;5;241;43m=\u001b[39;49m\u001b[43mcounter\u001b[49m\u001b[43m)\u001b[49m\n\u001b[1;32m     67\u001b[0m     \u001b[38;5;28;01mif\u001b[39;00m r:\n\u001b[1;32m     68\u001b[0m         \u001b[38;5;28;01mreturn\u001b[39;00m r\n",
      "Cell \u001b[0;32mIn[8], line 66\u001b[0m, in \u001b[0;36mCSP.simple_backtracking\u001b[0;34m(self, n, ac, counter)\u001b[0m\n\u001b[1;32m     64\u001b[0m \u001b[38;5;28;01mif\u001b[39;00m inf:\n\u001b[1;32m     65\u001b[0m     counter \u001b[38;5;241m+\u001b[39m\u001b[38;5;241m=\u001b[39m \u001b[38;5;241m1\u001b[39m\n\u001b[0;32m---> 66\u001b[0m     r \u001b[38;5;241m=\u001b[39m \u001b[38;5;28;43mself\u001b[39;49m\u001b[38;5;241;43m.\u001b[39;49m\u001b[43msimple_backtracking\u001b[49m\u001b[43m(\u001b[49m\u001b[43mn\u001b[49m\u001b[38;5;241;43m=\u001b[39;49m\u001b[43mn\u001b[49m\u001b[43m,\u001b[49m\u001b[43m \u001b[49m\u001b[43mac\u001b[49m\u001b[38;5;241;43m=\u001b[39;49m\u001b[43mac\u001b[49m\u001b[43m,\u001b[49m\u001b[43m \u001b[49m\u001b[43mcounter\u001b[49m\u001b[38;5;241;43m=\u001b[39;49m\u001b[43mcounter\u001b[49m\u001b[43m)\u001b[49m\n\u001b[1;32m     67\u001b[0m     \u001b[38;5;28;01mif\u001b[39;00m r:\n\u001b[1;32m     68\u001b[0m         \u001b[38;5;28;01mreturn\u001b[39;00m r\n",
      "    \u001b[0;31m[... skipping similar frames: CSP.simple_backtracking at line 66 (2959 times)]\u001b[0m\n",
      "Cell \u001b[0;32mIn[8], line 66\u001b[0m, in \u001b[0;36mCSP.simple_backtracking\u001b[0;34m(self, n, ac, counter)\u001b[0m\n\u001b[1;32m     64\u001b[0m \u001b[38;5;28;01mif\u001b[39;00m inf:\n\u001b[1;32m     65\u001b[0m     counter \u001b[38;5;241m+\u001b[39m\u001b[38;5;241m=\u001b[39m \u001b[38;5;241m1\u001b[39m\n\u001b[0;32m---> 66\u001b[0m     r \u001b[38;5;241m=\u001b[39m \u001b[38;5;28;43mself\u001b[39;49m\u001b[38;5;241;43m.\u001b[39;49m\u001b[43msimple_backtracking\u001b[49m\u001b[43m(\u001b[49m\u001b[43mn\u001b[49m\u001b[38;5;241;43m=\u001b[39;49m\u001b[43mn\u001b[49m\u001b[43m,\u001b[49m\u001b[43m \u001b[49m\u001b[43mac\u001b[49m\u001b[38;5;241;43m=\u001b[39;49m\u001b[43mac\u001b[49m\u001b[43m,\u001b[49m\u001b[43m \u001b[49m\u001b[43mcounter\u001b[49m\u001b[38;5;241;43m=\u001b[39;49m\u001b[43mcounter\u001b[49m\u001b[43m)\u001b[49m\n\u001b[1;32m     67\u001b[0m     \u001b[38;5;28;01mif\u001b[39;00m r:\n\u001b[1;32m     68\u001b[0m         \u001b[38;5;28;01mreturn\u001b[39;00m r\n",
      "Cell \u001b[0;32mIn[8], line 58\u001b[0m, in \u001b[0;36mCSP.simple_backtracking\u001b[0;34m(self, n, ac, counter)\u001b[0m\n\u001b[1;32m     54\u001b[0m \u001b[38;5;28;01mif\u001b[39;00m \u001b[38;5;28mself\u001b[39m\u001b[38;5;241m.\u001b[39mconsistent(n, x, v):\n\u001b[1;32m     56\u001b[0m     \u001b[38;5;28;01mif\u001b[39;00m ac:\n\u001b[1;32m     57\u001b[0m         \u001b[38;5;66;03m# Use ac3 to propagate constraints to domains\u001b[39;00m\n\u001b[0;32m---> 58\u001b[0m         copy_domains \u001b[38;5;241m=\u001b[39m \u001b[43mcopy\u001b[49m\u001b[38;5;241;43m.\u001b[39;49m\u001b[43mdeepcopy\u001b[49m\u001b[43m(\u001b[49m\u001b[38;5;28;43mself\u001b[39;49m\u001b[38;5;241;43m.\u001b[39;49m\u001b[43mdomains\u001b[49m\u001b[43m)\u001b[49m\n\u001b[1;32m     59\u001b[0m         \u001b[38;5;28mself\u001b[39m\u001b[38;5;241m.\u001b[39mdomains[x] \u001b[38;5;241m=\u001b[39m {v}\n\u001b[1;32m     60\u001b[0m         inf \u001b[38;5;241m=\u001b[39m \u001b[38;5;28mself\u001b[39m\u001b[38;5;241m.\u001b[39mac3(x\u001b[38;5;241m=\u001b[39mx)\n",
      "File \u001b[0;32m/usr/lib/python3.10/copy.py:146\u001b[0m, in \u001b[0;36mdeepcopy\u001b[0;34m(x, memo, _nil)\u001b[0m\n\u001b[1;32m    144\u001b[0m copier \u001b[38;5;241m=\u001b[39m _deepcopy_dispatch\u001b[38;5;241m.\u001b[39mget(\u001b[38;5;28mcls\u001b[39m)\n\u001b[1;32m    145\u001b[0m \u001b[38;5;28;01mif\u001b[39;00m copier \u001b[38;5;129;01mis\u001b[39;00m \u001b[38;5;129;01mnot\u001b[39;00m \u001b[38;5;28;01mNone\u001b[39;00m:\n\u001b[0;32m--> 146\u001b[0m     y \u001b[38;5;241m=\u001b[39m \u001b[43mcopier\u001b[49m\u001b[43m(\u001b[49m\u001b[43mx\u001b[49m\u001b[43m,\u001b[49m\u001b[43m \u001b[49m\u001b[43mmemo\u001b[49m\u001b[43m)\u001b[49m\n\u001b[1;32m    147\u001b[0m \u001b[38;5;28;01melse\u001b[39;00m:\n\u001b[1;32m    148\u001b[0m     \u001b[38;5;28;01mif\u001b[39;00m \u001b[38;5;28missubclass\u001b[39m(\u001b[38;5;28mcls\u001b[39m, \u001b[38;5;28mtype\u001b[39m):\n",
      "File \u001b[0;32m/usr/lib/python3.10/copy.py:231\u001b[0m, in \u001b[0;36m_deepcopy_dict\u001b[0;34m(x, memo, deepcopy)\u001b[0m\n\u001b[1;32m    229\u001b[0m memo[\u001b[38;5;28mid\u001b[39m(x)] \u001b[38;5;241m=\u001b[39m y\n\u001b[1;32m    230\u001b[0m \u001b[38;5;28;01mfor\u001b[39;00m key, value \u001b[38;5;129;01min\u001b[39;00m x\u001b[38;5;241m.\u001b[39mitems():\n\u001b[0;32m--> 231\u001b[0m     y[deepcopy(key, memo)] \u001b[38;5;241m=\u001b[39m \u001b[43mdeepcopy\u001b[49m\u001b[43m(\u001b[49m\u001b[43mvalue\u001b[49m\u001b[43m,\u001b[49m\u001b[43m \u001b[49m\u001b[43mmemo\u001b[49m\u001b[43m)\u001b[49m\n\u001b[1;32m    232\u001b[0m \u001b[38;5;28;01mreturn\u001b[39;00m y\n",
      "File \u001b[0;32m/usr/lib/python3.10/copy.py:172\u001b[0m, in \u001b[0;36mdeepcopy\u001b[0;34m(x, memo, _nil)\u001b[0m\n\u001b[1;32m    170\u001b[0m                 y \u001b[38;5;241m=\u001b[39m x\n\u001b[1;32m    171\u001b[0m             \u001b[38;5;28;01melse\u001b[39;00m:\n\u001b[0;32m--> 172\u001b[0m                 y \u001b[38;5;241m=\u001b[39m \u001b[43m_reconstruct\u001b[49m\u001b[43m(\u001b[49m\u001b[43mx\u001b[49m\u001b[43m,\u001b[49m\u001b[43m \u001b[49m\u001b[43mmemo\u001b[49m\u001b[43m,\u001b[49m\u001b[43m \u001b[49m\u001b[38;5;241;43m*\u001b[39;49m\u001b[43mrv\u001b[49m\u001b[43m)\u001b[49m\n\u001b[1;32m    174\u001b[0m \u001b[38;5;66;03m# If is its own copy, don't memoize.\u001b[39;00m\n\u001b[1;32m    175\u001b[0m \u001b[38;5;28;01mif\u001b[39;00m y \u001b[38;5;129;01mis\u001b[39;00m \u001b[38;5;129;01mnot\u001b[39;00m x:\n",
      "File \u001b[0;32m/usr/lib/python3.10/copy.py:265\u001b[0m, in \u001b[0;36m_reconstruct\u001b[0;34m(x, memo, func, args, state, listiter, dictiter, deepcopy)\u001b[0m\n\u001b[1;32m    263\u001b[0m \u001b[38;5;28;01mif\u001b[39;00m deep \u001b[38;5;129;01mand\u001b[39;00m args:\n\u001b[1;32m    264\u001b[0m     args \u001b[38;5;241m=\u001b[39m (deepcopy(arg, memo) \u001b[38;5;28;01mfor\u001b[39;00m arg \u001b[38;5;129;01min\u001b[39;00m args)\n\u001b[0;32m--> 265\u001b[0m y \u001b[38;5;241m=\u001b[39m \u001b[43mfunc\u001b[49m\u001b[43m(\u001b[49m\u001b[38;5;241;43m*\u001b[39;49m\u001b[43margs\u001b[49m\u001b[43m)\u001b[49m\n\u001b[1;32m    266\u001b[0m \u001b[38;5;28;01mif\u001b[39;00m deep:\n\u001b[1;32m    267\u001b[0m     memo[\u001b[38;5;28mid\u001b[39m(x)] \u001b[38;5;241m=\u001b[39m y\n",
      "File \u001b[0;32m/usr/lib/python3.10/copy.py:264\u001b[0m, in \u001b[0;36m<genexpr>\u001b[0;34m(.0)\u001b[0m\n\u001b[1;32m    262\u001b[0m deep \u001b[38;5;241m=\u001b[39m memo \u001b[38;5;129;01mis\u001b[39;00m \u001b[38;5;129;01mnot\u001b[39;00m \u001b[38;5;28;01mNone\u001b[39;00m\n\u001b[1;32m    263\u001b[0m \u001b[38;5;28;01mif\u001b[39;00m deep \u001b[38;5;129;01mand\u001b[39;00m args:\n\u001b[0;32m--> 264\u001b[0m     args \u001b[38;5;241m=\u001b[39m (\u001b[43mdeepcopy\u001b[49m\u001b[43m(\u001b[49m\u001b[43marg\u001b[49m\u001b[43m,\u001b[49m\u001b[43m \u001b[49m\u001b[43mmemo\u001b[49m\u001b[43m)\u001b[49m \u001b[38;5;28;01mfor\u001b[39;00m arg \u001b[38;5;129;01min\u001b[39;00m args)\n\u001b[1;32m    265\u001b[0m y \u001b[38;5;241m=\u001b[39m func(\u001b[38;5;241m*\u001b[39margs)\n\u001b[1;32m    266\u001b[0m \u001b[38;5;28;01mif\u001b[39;00m deep:\n",
      "File \u001b[0;32m/usr/lib/python3.10/copy.py:146\u001b[0m, in \u001b[0;36mdeepcopy\u001b[0;34m(x, memo, _nil)\u001b[0m\n\u001b[1;32m    144\u001b[0m copier \u001b[38;5;241m=\u001b[39m _deepcopy_dispatch\u001b[38;5;241m.\u001b[39mget(\u001b[38;5;28mcls\u001b[39m)\n\u001b[1;32m    145\u001b[0m \u001b[38;5;28;01mif\u001b[39;00m copier \u001b[38;5;129;01mis\u001b[39;00m \u001b[38;5;129;01mnot\u001b[39;00m \u001b[38;5;28;01mNone\u001b[39;00m:\n\u001b[0;32m--> 146\u001b[0m     y \u001b[38;5;241m=\u001b[39m \u001b[43mcopier\u001b[49m\u001b[43m(\u001b[49m\u001b[43mx\u001b[49m\u001b[43m,\u001b[49m\u001b[43m \u001b[49m\u001b[43mmemo\u001b[49m\u001b[43m)\u001b[49m\n\u001b[1;32m    147\u001b[0m \u001b[38;5;28;01melse\u001b[39;00m:\n\u001b[1;32m    148\u001b[0m     \u001b[38;5;28;01mif\u001b[39;00m \u001b[38;5;28missubclass\u001b[39m(\u001b[38;5;28mcls\u001b[39m, \u001b[38;5;28mtype\u001b[39m):\n",
      "File \u001b[0;32m/usr/lib/python3.10/copy.py:206\u001b[0m, in \u001b[0;36m_deepcopy_list\u001b[0;34m(x, memo, deepcopy)\u001b[0m\n\u001b[1;32m    204\u001b[0m append \u001b[38;5;241m=\u001b[39m y\u001b[38;5;241m.\u001b[39mappend\n\u001b[1;32m    205\u001b[0m \u001b[38;5;28;01mfor\u001b[39;00m a \u001b[38;5;129;01min\u001b[39;00m x:\n\u001b[0;32m--> 206\u001b[0m     append(\u001b[43mdeepcopy\u001b[49m\u001b[43m(\u001b[49m\u001b[43ma\u001b[49m\u001b[43m,\u001b[49m\u001b[43m \u001b[49m\u001b[43mmemo\u001b[49m\u001b[43m)\u001b[49m)\n\u001b[1;32m    207\u001b[0m \u001b[38;5;28;01mreturn\u001b[39;00m y\n",
      "File \u001b[0;32m/usr/lib/python3.10/copy.py:137\u001b[0m, in \u001b[0;36mdeepcopy\u001b[0;34m(x, memo, _nil)\u001b[0m\n\u001b[1;32m    134\u001b[0m \u001b[38;5;28;01mif\u001b[39;00m memo \u001b[38;5;129;01mis\u001b[39;00m \u001b[38;5;28;01mNone\u001b[39;00m:\n\u001b[1;32m    135\u001b[0m     memo \u001b[38;5;241m=\u001b[39m {}\n\u001b[0;32m--> 137\u001b[0m d \u001b[38;5;241m=\u001b[39m \u001b[38;5;28;43mid\u001b[39;49m\u001b[43m(\u001b[49m\u001b[43mx\u001b[49m\u001b[43m)\u001b[49m\n\u001b[1;32m    138\u001b[0m y \u001b[38;5;241m=\u001b[39m memo\u001b[38;5;241m.\u001b[39mget(d, _nil)\n\u001b[1;32m    139\u001b[0m \u001b[38;5;28;01mif\u001b[39;00m y \u001b[38;5;129;01mis\u001b[39;00m \u001b[38;5;129;01mnot\u001b[39;00m _nil:\n",
      "\u001b[0;31mRecursionError\u001b[0m: maximum recursion depth exceeded while calling a Python object"
     ]
    }
   ],
   "source": [
    "# Sudoku instances (index i belongs to row i // 9 and column i % 9)\n",
    "easy = [\n",
    "    '.9......45.2.......13......95.3.16.2.267.54...3..6..7...4....131.....5.7.6.......',\n",
    "    '...97..81.2......9.4..38.5.5..1...............9......72....73..3.98......8..15.4.',\n",
    "    '..8.....9.3...7.4857..........9.....6.4.......5....836.9....567.61.5.98....3..1..'\n",
    "]\n",
    "medium = [\n",
    "    '.275....85....6..9.......2..91.27...7...632.........713...9...5.........1.9....63',\n",
    "    '.38.6.71..9...............3......5746..1...3..8.5.76..54..96..8.1.7..4...........',\n",
    "    '895...6.2...8.4..7......5..............681...56.4.71..9..72....1..9..72...8......'\n",
    "]\n",
    "hard = [\n",
    "    '.3.9.67.565.7.24......5.3............7.3.....4....8.2.8....7....9..2.......4.9.8.',\n",
    "    '3.7...5.9...7..46..9.4.38...5.379......1....8..9.....64......1...8.........614...',\n",
    "    '.......98...7....38.9...51..31.2........78......3....661.....39.......6...2.918..'\n",
    "]\n",
    "\n",
    "def build_csp(instance):\n",
    "    domains, constraints = {}, {}\n",
    "    for i, n in enumerate(instance):\n",
    "        x, y = i // 9, i % 9\n",
    "        domains[str(x)+str(y)] = {_ for _ in range(9)} if n == \".\" else {int(n)}\n",
    "\n",
    "        for j in range(9):\n",
    "            if j != x:\n",
    "                constraints[str(x)+str(y), str(j)+str(y)] = {lambda a, b: a != b}\n",
    "            if j != y:\n",
    "                constraints[str(x)+str(y), str(x)+str(j)] = {lambda a, b: a != b}\n",
    "\n",
    "        block_x = x // 3 * 3\n",
    "        block_y = y // 3 * 3\n",
    "        for k in range(block_x, block_x + 3):\n",
    "            for l in range(block_y, block_y + 3):\n",
    "                if (x, y) != (k, l):\n",
    "                    constraints[str(x)+str(y), str(k)+str(l)] = {lambda a, b: a != b}\n",
    "        \n",
    "    return domains, constraints\n",
    "\n",
    "# evaluate\n",
    "sodokus = [build_csp(i) for i in easy+medium+hard]\n",
    "\"\"\"\n",
    "for s in sodokus:\n",
    "    csp = CSP(*s)\n",
    "    # TODO timer\n",
    "    csp.simple_backtracking()\n",
    "    csp.ac3_backtrack()\n",
    "\"\"\"\n",
    "\n",
    "csp = CSP(*sodokus[1])\n",
    "print(csp.simple_backtracking())\n",
    "print(csp.ac3_backtrack())"
   ]
  },
  {
   "cell_type": "code",
   "execution_count": null,
   "metadata": {},
   "outputs": [],
   "source": []
  }
 ],
 "metadata": {
  "kernelspec": {
   "display_name": "Python 3 (ipykernel)",
   "language": "python",
   "name": "python3"
  },
  "language_info": {
   "codemirror_mode": {
    "name": "ipython",
    "version": 3
   },
   "file_extension": ".py",
   "mimetype": "text/x-python",
   "name": "python",
   "nbconvert_exporter": "python",
   "pygments_lexer": "ipython3",
   "version": "3.10.12"
  }
 },
 "nbformat": 4,
 "nbformat_minor": 4
}
